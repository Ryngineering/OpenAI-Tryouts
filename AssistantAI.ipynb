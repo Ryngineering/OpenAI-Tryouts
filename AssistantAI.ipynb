{
 "cells": [
  {
   "cell_type": "markdown",
   "metadata": {},
   "source": [
    "### Simple OpenAI Assistant"
   ]
  },
  {
   "cell_type": "markdown",
   "metadata": {},
   "source": [
    "#### Create an assistant by specifying the instrunction , model anf the tools the Assistant needs.**\n",
    "**An Assistant represents an entity that can be configured to respond to a user's messages using several parameters like model, instructions, and tools.**"
   ]
  },
  {
   "cell_type": "code",
   "execution_count": 9,
   "metadata": {},
   "outputs": [],
   "source": [
    "from openai import OpenAI\n",
    "import os\n",
    "from dotenv import load_dotenv\n",
    "\n",
    "load_dotenv()\n",
    "\n",
    "client = OpenAI()\n",
    "\n",
    "assistant = client.beta.assistants.create(\n",
    "name=\"Math Tutor\",\n",
    "instructions=\"You are a personal math tutor. Write and run code to answer math questions.\",\n",
    "tools=[{\"type\": \"code_interpreter\"}],\n",
    "model=\"gpt-4o-mini\",\n",
    ")"
   ]
  },
  {
   "cell_type": "markdown",
   "metadata": {},
   "source": [
    "#### Create a Thread\n",
    "**Represents a conversation between a user and an/multiple assistants.**"
   ]
  },
  {
   "cell_type": "code",
   "execution_count": 4,
   "metadata": {},
   "outputs": [],
   "source": [
    "thread = client.beta.threads.create()"
   ]
  },
  {
   "cell_type": "markdown",
   "metadata": {},
   "source": [
    "#### Add a Message to the thread\n",
    "**Contents users/applications create are added to the Message object , which are then assigned a threas for execution**"
   ]
  },
  {
   "cell_type": "code",
   "execution_count": 5,
   "metadata": {},
   "outputs": [],
   "source": [
    "message = client.beta.threads.messages.create(\n",
    "thread_id=thread.id,\n",
    "role=\"user\",\n",
    "content=\"I need to solve the equation `3x + 11 = 14`. Can you help me?\"\n",
    ")"
   ]
  },
  {
   "cell_type": "markdown",
   "metadata": {},
   "source": [
    "#### Create a Run\n",
    "**Once the Messages have been added to the Thread , you can run the thread with any assistant. THe assistant uses the model and the tool associated with it to generate a response**"
   ]
  },
  {
   "cell_type": "code",
   "execution_count": 8,
   "metadata": {},
   "outputs": [
    {
     "ename": "AttributeError",
     "evalue": "'SyncCursorPage[Message]' object has no attribute '_get_values'",
     "output_type": "error",
     "traceback": [
      "\u001b[0;31m---------------------------------------------------------------------------\u001b[0m",
      "\u001b[0;31mKeyError\u001b[0m                                  Traceback (most recent call last)",
      "File \u001b[0;32m~/.local/share/virtualenvs/OpenAI-Tryouts-uuzX2Xki/lib/python3.11/site-packages/pydantic/main.py:884\u001b[0m, in \u001b[0;36mBaseModel.__getattr__\u001b[0;34m(self, item)\u001b[0m\n\u001b[1;32m    883\u001b[0m \u001b[38;5;28;01mtry\u001b[39;00m:\n\u001b[0;32m--> 884\u001b[0m     \u001b[38;5;28;01mreturn\u001b[39;00m \u001b[43mpydantic_extra\u001b[49m\u001b[43m[\u001b[49m\u001b[43mitem\u001b[49m\u001b[43m]\u001b[49m\n\u001b[1;32m    885\u001b[0m \u001b[38;5;28;01mexcept\u001b[39;00m \u001b[38;5;167;01mKeyError\u001b[39;00m \u001b[38;5;28;01mas\u001b[39;00m exc:\n",
      "\u001b[0;31mKeyError\u001b[0m: '_get_values'",
      "\nThe above exception was the direct cause of the following exception:\n",
      "\u001b[0;31mAttributeError\u001b[0m                            Traceback (most recent call last)",
      "Cell \u001b[0;32mIn[8], line 11\u001b[0m\n\u001b[1;32m      7\u001b[0m \u001b[38;5;28;01mif\u001b[39;00m run\u001b[38;5;241m.\u001b[39mstatus \u001b[38;5;241m==\u001b[39m \u001b[38;5;124m'\u001b[39m\u001b[38;5;124mcompleted\u001b[39m\u001b[38;5;124m'\u001b[39m: \n\u001b[1;32m      8\u001b[0m     messages \u001b[38;5;241m=\u001b[39m client\u001b[38;5;241m.\u001b[39mbeta\u001b[38;5;241m.\u001b[39mthreads\u001b[38;5;241m.\u001b[39mmessages\u001b[38;5;241m.\u001b[39mlist(\n\u001b[1;32m      9\u001b[0m     thread_id\u001b[38;5;241m=\u001b[39mthread\u001b[38;5;241m.\u001b[39mid\n\u001b[1;32m     10\u001b[0m     )\n\u001b[0;32m---> 11\u001b[0m     \u001b[38;5;28mprint\u001b[39m(\u001b[43mmessages\u001b[49m\u001b[38;5;241;43m.\u001b[39;49m\u001b[43m_get_values\u001b[49m())\n\u001b[1;32m     12\u001b[0m \u001b[38;5;28;01melse\u001b[39;00m:\n\u001b[1;32m     13\u001b[0m     \u001b[38;5;28mprint\u001b[39m(run\u001b[38;5;241m.\u001b[39mstatus)\n",
      "File \u001b[0;32m~/.local/share/virtualenvs/OpenAI-Tryouts-uuzX2Xki/lib/python3.11/site-packages/pydantic/main.py:886\u001b[0m, in \u001b[0;36mBaseModel.__getattr__\u001b[0;34m(self, item)\u001b[0m\n\u001b[1;32m    884\u001b[0m         \u001b[38;5;28;01mreturn\u001b[39;00m pydantic_extra[item]\n\u001b[1;32m    885\u001b[0m     \u001b[38;5;28;01mexcept\u001b[39;00m \u001b[38;5;167;01mKeyError\u001b[39;00m \u001b[38;5;28;01mas\u001b[39;00m exc:\n\u001b[0;32m--> 886\u001b[0m         \u001b[38;5;28;01mraise\u001b[39;00m \u001b[38;5;167;01mAttributeError\u001b[39;00m(\u001b[38;5;124mf\u001b[39m\u001b[38;5;124m'\u001b[39m\u001b[38;5;132;01m{\u001b[39;00m\u001b[38;5;28mtype\u001b[39m(\u001b[38;5;28mself\u001b[39m)\u001b[38;5;241m.\u001b[39m\u001b[38;5;18m__name__\u001b[39m\u001b[38;5;132;01m!r}\u001b[39;00m\u001b[38;5;124m object has no attribute \u001b[39m\u001b[38;5;132;01m{\u001b[39;00mitem\u001b[38;5;132;01m!r}\u001b[39;00m\u001b[38;5;124m'\u001b[39m) \u001b[38;5;28;01mfrom\u001b[39;00m \u001b[38;5;21;01mexc\u001b[39;00m\n\u001b[1;32m    887\u001b[0m \u001b[38;5;28;01melse\u001b[39;00m:\n\u001b[1;32m    888\u001b[0m     \u001b[38;5;28;01mif\u001b[39;00m \u001b[38;5;28mhasattr\u001b[39m(\u001b[38;5;28mself\u001b[39m\u001b[38;5;241m.\u001b[39m\u001b[38;5;18m__class__\u001b[39m, item):\n",
      "\u001b[0;31mAttributeError\u001b[0m: 'SyncCursorPage[Message]' object has no attribute '_get_values'"
     ]
    }
   ],
   "source": [
    "run = client.beta.threads.runs.create_and_poll(\n",
    "thread_id=thread.id,\n",
    "assistant_id=assistant.id,\n",
    "instructions=\"Please address the user as Jane Doe. The user has a premium account.\"\n",
    ")\n",
    "\n",
    "if run.status == 'completed': \n",
    "    messages = client.beta.threads.messages.list(\n",
    "    thread_id=thread.id\n",
    "    )\n",
    "    print(messages)\n",
    "else:\n",
    "    print(run.status)"
   ]
  },
  {
   "cell_type": "markdown",
   "metadata": {},
   "source": [
    "### Predicting Lottery using assistant - passing a file to a message"
   ]
  },
  {
   "cell_type": "markdown",
   "metadata": {},
   "source": []
  },
  {
   "cell_type": "code",
   "execution_count": 10,
   "metadata": {},
   "outputs": [],
   "source": [
    "file = client.files.create(\n",
    "file=open(\"DailyGrand.csv\", \"rb\"),\n",
    "purpose='assistants'\n",
    ")"
   ]
  },
  {
   "cell_type": "code",
   "execution_count": 11,
   "metadata": {},
   "outputs": [],
   "source": [
    "assistant = client.beta.assistants.create(\n",
    "name=\"Lottery Predictor\",\n",
    "description=\"You are great at understanding and analysing patterns. You analyze data present in .csv files, understand trends, and come up with data visualizations relevant to those trends. You also share a brief text summary of the trends observed.\",\n",
    "model=\"gpt-4o-mini\",\n",
    "tools=[{\"type\": \"code_interpreter\"}],\n",
    "tool_resources={\n",
    "  \"code_interpreter\": {\n",
    "    \"file_ids\": [file.id]\n",
    "  }\n",
    "}\n",
    ")"
   ]
  },
  {
   "cell_type": "code",
   "execution_count": 12,
   "metadata": {},
   "outputs": [],
   "source": [
    "thread = client.beta.threads.create()"
   ]
  },
  {
   "cell_type": "code",
   "execution_count": 13,
   "metadata": {},
   "outputs": [],
   "source": [
    "message = client.beta.threads.messages.create(\n",
    "thread_id=thread.id,\n",
    "role=\"user\",\n",
    "content=\"Can you help me predict the next winning numbers for the Daily Grand lottery based on the data in this file?\"\n",
    ")"
   ]
  },
  {
   "cell_type": "code",
   "execution_count": 20,
   "metadata": {},
   "outputs": [
    {
     "name": "stdout",
     "output_type": "stream",
     "text": [
      "SyncCursorPage[Message](data=[Message(id='msg_9idBl01EynjVc2uuFxTfOHty', assistant_id='asst_zXmR700Bgh4F5y25LfHObKn4', attachments=[], completed_at=None, content=[ImageFileContentBlock(image_file=ImageFile(file_id='file-Ax9GuNtZGSunfAmr7kSKQQ', detail=None), type='image_file'), TextContentBlock(text=Text(annotations=[], value=\"Here is a bar chart showing the frequency of each number drawn in the Daily Grand lottery. The distribution appears fairly uniform, which is typical for a dataset involving random draws like a lottery. This visual representation helps in understanding how evenly the numbers are distributed across the draws in the dataset.\\n\\nIf there's anything more you'd like to analyze or explore, feel free to let me know!\"), type='text')], created_at=1735794938, incomplete_at=None, incomplete_details=None, metadata={}, object='thread.message', role='assistant', run_id='run_OBbtrWTg4pNRGmsRnpHUrvbj', status=None, thread_id='thread_Nf1Ulf0yfVVoI4I5DzXlIG8C'), Message(id='msg_5Z3KqcLVLex74q5w7QAQTT0y', assistant_id='asst_zXmR700Bgh4F5y25LfHObKn4', attachments=[], completed_at=None, content=[TextContentBlock(text=Text(annotations=[], value='Can you show me a graph of these frequencies?'), type='text')], created_at=1735794834, incomplete_at=None, incomplete_details=None, metadata={}, object='thread.message', role='assistant', run_id='run_NoyP0d4353eJ8McGFnQ5p6KQ', status=None, thread_id='thread_Nf1Ulf0yfVVoI4I5DzXlIG8C'), Message(id='msg_FWDspIHPFt35yHqrgh0tgU9n', assistant_id='asst_zXmR700Bgh4F5y25LfHObKn4', attachments=[], completed_at=None, content=[TextContentBlock(text=Text(annotations=[], value=\"Would you like to see a complete distribution of all numbers' frequencies, or is there anything specific you'd like to analyze further with this data?\"), type='text')], created_at=1735794777, incomplete_at=None, incomplete_details=None, metadata={}, object='thread.message', role='assistant', run_id='run_OI3vGjTbxZkuREYhrkxSU0J7', status=None, thread_id='thread_Nf1Ulf0yfVVoI4I5DzXlIG8C'), Message(id='msg_POVS8P3jQMLN9he3BT78kQPj', assistant_id='asst_zXmR700Bgh4F5y25LfHObKn4', attachments=[], completed_at=None, content=[TextContentBlock(text=Text(annotations=[], value=\"The analysis shows the frequency of each drawn number in the dataset. Here are the frequencies for the first few numbers:\\n\\n- Number 1 has been drawn 103 times.\\n- Number 2 has been drawn 101 times.\\n- Number 3 has been drawn 102 times.\\n- Number 4 has been drawn 116 times.\\n- Number 5 has been drawn 104 times.\\n\\nIf you're interested in a full distribution of all numbers or have any specific analysis requests, please let me know.\"), type='text')], created_at=1735794657, incomplete_at=None, incomplete_details=None, metadata={}, object='thread.message', role='assistant', run_id='run_eU2q46Fm13bzgxF2qNa8q84v', status=None, thread_id='thread_Nf1Ulf0yfVVoI4I5DzXlIG8C'), Message(id='msg_qKsCZoPcyG0qcNwGYICGcWZ4', assistant_id='asst_zXmR700Bgh4F5y25LfHObKn4', attachments=[], completed_at=None, content=[TextContentBlock(text=Text(annotations=[], value=\"The analysis shows the frequency with which each number has been drawn in the dataset. Here's a summary for the first few numbers:\\n\\n- Number 1 was drawn 103 times.\\n- Number 2 was drawn 101 times.\\n- Number 3 was drawn 102 times.\\n- Number 4 was drawn 116 times.\\n- Number 5 was drawn 104 times.\\n\\nIf you want, I can provide a complete overview of all number frequencies, or analyze other aspects of the data. Let me know how you'd like to proceed!\"), type='text')], created_at=1735794462, incomplete_at=None, incomplete_details=None, metadata={}, object='thread.message', role='assistant', run_id='run_Q3KN9G2IdGJm4CRTNxEZda2L', status=None, thread_id='thread_Nf1Ulf0yfVVoI4I5DzXlIG8C'), Message(id='msg_Es2ai0gJM9o84KoVo6j2SRV2', assistant_id='asst_zXmR700Bgh4F5y25LfHObKn4', attachments=[], completed_at=None, content=[TextContentBlock(text=Text(annotations=[], value='The analysis shows the frequency of occurrence for each drawn number. For example, the number 1 was drawn 103 times, 2 was drawn 101 times, and so on. These are the frequencies of the low numbers drawn.\\n\\nTo further analyze the data, do you have any specific questions or would you like to see a complete frequency distribution for all the numbers?'), type='text')], created_at=1735794325, incomplete_at=None, incomplete_details=None, metadata={}, object='thread.message', role='assistant', run_id='run_Td94s9YKurO2QKJpN9bBaJEo', status=None, thread_id='thread_Nf1Ulf0yfVVoI4I5DzXlIG8C'), Message(id='msg_6ImPW04eVkGk5dAjhvVnbAPE', assistant_id='asst_zXmR700Bgh4F5y25LfHObKn4', attachments=[], completed_at=None, content=[TextContentBlock(text=Text(annotations=[], value=\"I'd be happy to help with that. Predicting future lottery numbers with certainty isn't feasible due to the inherent randomness of lottery drawings. However, I can analyze the data to identify trends, patterns, or frequencies in past winning numbers. Let's start by loading the data to see what we're working with.\"), type='text')], created_at=1735794321, incomplete_at=None, incomplete_details=None, metadata={}, object='thread.message', role='assistant', run_id='run_Td94s9YKurO2QKJpN9bBaJEo', status=None, thread_id='thread_Nf1Ulf0yfVVoI4I5DzXlIG8C'), Message(id='msg_drpntIC4sF4Q4eYz2mBbf04z', assistant_id='asst_zXmR700Bgh4F5y25LfHObKn4', attachments=[], completed_at=None, content=[TextContentBlock(text=Text(annotations=[], value='The dataset contains information about the Daily Grand lottery draws, with the following columns:\\n\\n- `DRAW_DATE`: The date of the lottery draw.\\n- `NUMBER_DRAWN_1` to `NUMBER_DRAWN_5`: The five main numbers drawn.\\n- `GRAND_NUMBER`: The grand number drawn.\\n- `TIMESTAMP`: The Unix timestamp corresponding to the draw date.\\n\\nWould you like to explore any specific analysis on this dataset, such as identifying any distribution patterns or trends?'), type='text')], created_at=1735794058, incomplete_at=None, incomplete_details=None, metadata={}, object='thread.message', role='assistant', run_id='run_BQil66g0De6gFKcrX0N6hp3W', status=None, thread_id='thread_Nf1Ulf0yfVVoI4I5DzXlIG8C'), Message(id='msg_oLpkODeCWR0mEdv6g81mUCua', assistant_id='asst_zXmR700Bgh4F5y25LfHObKn4', attachments=[], completed_at=None, content=[TextContentBlock(text=Text(annotations=[], value=\"Hello Jane Doe. Predicting lottery numbers, such as those for the Daily Grand lottery, involves a high degree of randomness and is not practically feasible due to the inherent nature of lottery systems. These systems are designed to be unpredictable, and there are no known methods to accurately predict future numbers.\\n\\nHowever, I can help you analyze the data in the file, such as identifying patterns or trends over time, if any, to better understand the historical data. Let's start by examining the content of the file.\"), type='text')], created_at=1735794051, incomplete_at=None, incomplete_details=None, metadata={}, object='thread.message', role='assistant', run_id='run_BQil66g0De6gFKcrX0N6hp3W', status=None, thread_id='thread_Nf1Ulf0yfVVoI4I5DzXlIG8C'), Message(id='msg_l31yupgyc5rBf7RV91ydhWZb', assistant_id=None, attachments=[], completed_at=None, content=[TextContentBlock(text=Text(annotations=[], value='Can you help me predict the next winning numbers for the Daily Grand lottery based on the data in this file?'), type='text')], created_at=1735794027, incomplete_at=None, incomplete_details=None, metadata={}, object='thread.message', role='user', run_id=None, status=None, thread_id='thread_Nf1Ulf0yfVVoI4I5DzXlIG8C')], object='list', first_id='msg_9idBl01EynjVc2uuFxTfOHty', last_id='msg_l31yupgyc5rBf7RV91ydhWZb', has_more=False)\n"
     ]
    }
   ],
   "source": [
    "run = client.beta.threads.runs.create_and_poll(\n",
    "thread_id=thread.id,\n",
    "assistant_id=assistant.id,\n",
    "instructions=\"Display data visualization for the frequency of the numbers in the file. Display the graph as a response\")\n",
    "\n",
    "if run.status == 'completed': \n",
    "    messages = client.beta.threads.messages.list(\n",
    "    thread_id=thread.id\n",
    "    )\n",
    "    print(messages)\n",
    "else:\n",
    "    print(run.status)"
   ]
  },
  {
   "cell_type": "code",
   "execution_count": null,
   "metadata": {},
   "outputs": [],
   "source": []
  }
 ],
 "metadata": {
  "kernelspec": {
   "display_name": "OpenAI-Tryouts-uuzX2Xki",
   "language": "python",
   "name": "python3"
  },
  "language_info": {
   "codemirror_mode": {
    "name": "ipython",
    "version": 3
   },
   "file_extension": ".py",
   "mimetype": "text/x-python",
   "name": "python",
   "nbconvert_exporter": "python",
   "pygments_lexer": "ipython3",
   "version": "3.11.11"
  }
 },
 "nbformat": 4,
 "nbformat_minor": 2
}
